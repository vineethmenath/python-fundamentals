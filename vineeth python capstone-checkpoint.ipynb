{
 "cells": [
  {
   "cell_type": "code",
   "execution_count": 1,
   "id": "a98cb5c4-2e9e-41b4-a9c1-5e79109a730c",
   "metadata": {},
   "outputs": [
    {
     "name": "stdout",
     "output_type": "stream",
     "text": [
      "CSV files created successfully!\n"
     ]
    }
   ],
   "source": [
    "import pandas as pd\n",
    "df_employee = pd.DataFrame({\n",
    "    \"ID\": [\"A001\", \"A002\", \"A003\", \"A004\", \"A005\"],\n",
    "    \"Name\": [\"John Alter\", \"Alice Luxumberg\", \"Tom Sabestine\", \"Nina Adgra\", \"Amy Johny\"],\n",
    "    \"Gender\": [\"M\", \"F\", \"M\", \"F\", \"F\"],\n",
    "    \"City\": [\"Paris\", \"London\", \"Berlin\", \"Newyork\", \"Madrid\"],\n",
    "    \"Age\": [25, 27, 29, 31, 30]\n",
    "})\n",
    "df_employee.to_csv(\"Employee.csv\", index=False)\n",
    "\n",
    "\n",
    "df_seniority = pd.DataFrame({\n",
    "    \"ID\": [\"A001\", \"A002\", \"A003\", \"A004\", \"A005\"],\n",
    "    \"Designation Level\": [2, 2, 3, 2, 3]\n",
    "})\n",
    "df_seniority.to_csv(\"Seniority.csv\", index=False)\n",
    "\n",
    "\n",
    "df_project = pd.DataFrame({\n",
    "    \"ID\": [\"A001\", \"A002\", \"A003\", \"A004\", \"A005\", \"A002\", \"A005\", \"A003\", \"A001\", \"A003\", \"A001\", \"A004\", \"A004\", \"A005\"],\n",
    "    \"Project\": [\"Project 1\", \"Project 2\", \"Project 3\", \"Project 4\", \"Project 5\", \"Project 6\", \"Project 7\", \"Project 8\", \"Project 9\", \"Project 10\", \"Project 11\", \"Project 12\", \"Project 13\", \"Project 14\"],\n",
    "    \"Cost\": [1002000, 2000000, 4500000, 5500000, None, 680000, 400000, 350000, None, 300000, 2000000, 1000000, 3000000, 200000],\n",
    "    \"Status\": [\"Finished\", \"Ongoing\", \"Finished\", \"Ongoing\", \"Finished\", \"Failed\", \"Finished\", \"Failed\", \"Ongoing\", \"Finished\", \"Failed\", \"Ongoing\", \"Finished\", \"Finished\"]\n",
    "})\n",
    "df_project.to_csv(\"Project.csv\", index=False)\n",
    "\n",
    "print(\"CSV files created successfully!\")\n"
   ]
  },
  {
   "cell_type": "code",
   "execution_count": 65,
   "id": "4261cdb3-bf4a-4712-980c-7c57e9886813",
   "metadata": {},
   "outputs": [
    {
     "name": "stdout",
     "output_type": "stream",
     "text": [
      "Missing cost values replaced successfully!\n"
     ]
    }
   ],
   "source": [
    "import pandas as pd\n",
    "\n",
    "\n",
    "df_project = pd.read_csv(\"Project.csv\")\n",
    "\n",
    "\n",
    "running_sum = 0\n",
    "count = 0\n",
    "for index, row in df_project.iterrows():\n",
    "    if pd.isna(row[\"Cost\"]):\n",
    "        df_project.at[index, \"Cost\"] = running_sum / count if count > 0 else 0\n",
    "    else:\n",
    "        running_sum += row[\"Cost\"]\n",
    "        count += 1\n",
    "\n",
    "# Save the updated DataFrame\n",
    "df_project.to_csv(\"Project.csv\", index=False)\n",
    "\n",
    "print(\"Missing cost values replaced successfully!\")\n"
   ]
  },
  {
   "cell_type": "code",
   "execution_count": 39,
   "id": "95c6e1dc-aa1a-41ca-b426-d788ee6f9414",
   "metadata": {},
   "outputs": [
    {
     "ename": "KeyError",
     "evalue": "'name'",
     "output_type": "error",
     "traceback": [
      "\u001b[1;31m---------------------------------------------------------------------------\u001b[0m",
      "\u001b[1;31mKeyError\u001b[0m                                  Traceback (most recent call last)",
      "File \u001b[1;32mD:\\anaconda python\\Lib\\site-packages\\pandas\\core\\indexes\\base.py:3805\u001b[0m, in \u001b[0;36mIndex.get_loc\u001b[1;34m(self, key)\u001b[0m\n\u001b[0;32m   3804\u001b[0m \u001b[38;5;28;01mtry\u001b[39;00m:\n\u001b[1;32m-> 3805\u001b[0m     \u001b[38;5;28;01mreturn\u001b[39;00m \u001b[38;5;28mself\u001b[39m\u001b[38;5;241m.\u001b[39m_engine\u001b[38;5;241m.\u001b[39mget_loc(casted_key)\n\u001b[0;32m   3806\u001b[0m \u001b[38;5;28;01mexcept\u001b[39;00m \u001b[38;5;167;01mKeyError\u001b[39;00m \u001b[38;5;28;01mas\u001b[39;00m err:\n",
      "File \u001b[1;32mindex.pyx:167\u001b[0m, in \u001b[0;36mpandas._libs.index.IndexEngine.get_loc\u001b[1;34m()\u001b[0m\n",
      "File \u001b[1;32mindex.pyx:196\u001b[0m, in \u001b[0;36mpandas._libs.index.IndexEngine.get_loc\u001b[1;34m()\u001b[0m\n",
      "File \u001b[1;32mpandas\\\\_libs\\\\hashtable_class_helper.pxi:7081\u001b[0m, in \u001b[0;36mpandas._libs.hashtable.PyObjectHashTable.get_item\u001b[1;34m()\u001b[0m\n",
      "File \u001b[1;32mpandas\\\\_libs\\\\hashtable_class_helper.pxi:7089\u001b[0m, in \u001b[0;36mpandas._libs.hashtable.PyObjectHashTable.get_item\u001b[1;34m()\u001b[0m\n",
      "\u001b[1;31mKeyError\u001b[0m: 'name'",
      "\nThe above exception was the direct cause of the following exception:\n",
      "\u001b[1;31mKeyError\u001b[0m                                  Traceback (most recent call last)",
      "Cell \u001b[1;32mIn[39], line 5\u001b[0m\n\u001b[0;32m      1\u001b[0m \u001b[38;5;28;01mimport\u001b[39;00m \u001b[38;5;21;01mpandas\u001b[39;00m \u001b[38;5;28;01mas\u001b[39;00m \u001b[38;5;21;01mpd\u001b[39;00m\n\u001b[0;32m      3\u001b[0m df_employee \u001b[38;5;241m=\u001b[39m pd\u001b[38;5;241m.\u001b[39mread_csv(\u001b[38;5;124m\"\u001b[39m\u001b[38;5;124mEmployee.csv\u001b[39m\u001b[38;5;124m\"\u001b[39m)\n\u001b[1;32m----> 5\u001b[0m df_employee[[\u001b[38;5;124m'\u001b[39m\u001b[38;5;124mFirst name\u001b[39m\u001b[38;5;124m'\u001b[39m, \u001b[38;5;124m'\u001b[39m\u001b[38;5;124mLast name\u001b[39m\u001b[38;5;124m'\u001b[39m]] \u001b[38;5;241m=\u001b[39m df_employee[\u001b[38;5;124m'\u001b[39m\u001b[38;5;124mname\u001b[39m\u001b[38;5;124m'\u001b[39m]\u001b[38;5;241m.\u001b[39mstr\u001b[38;5;241m.\u001b[39msplit(\u001b[38;5;124m'\u001b[39m\u001b[38;5;124m \u001b[39m\u001b[38;5;124m'\u001b[39m, \u001b[38;5;241m1\u001b[39m, expand\u001b[38;5;241m=\u001b[39m\u001b[38;5;28;01mTrue\u001b[39;00m)\n\u001b[0;32m      7\u001b[0m df_employee\u001b[38;5;241m.\u001b[39mdrop(columns\u001b[38;5;241m=\u001b[39m[\u001b[38;5;124m'\u001b[39m\u001b[38;5;124mname\u001b[39m\u001b[38;5;124m'\u001b[39m], inplace\u001b[38;5;241m=\u001b[39m\u001b[38;5;28;01mTrue\u001b[39;00m)\n\u001b[0;32m      9\u001b[0m df_employee\u001b[38;5;241m.\u001b[39mto_csv(\u001b[38;5;124m\"\u001b[39m\u001b[38;5;124mEmployee.csv\u001b[39m\u001b[38;5;124m\"\u001b[39m, index\u001b[38;5;241m=\u001b[39m\u001b[38;5;28;01mFalse\u001b[39;00m)\n",
      "File \u001b[1;32mD:\\anaconda python\\Lib\\site-packages\\pandas\\core\\frame.py:4102\u001b[0m, in \u001b[0;36mDataFrame.__getitem__\u001b[1;34m(self, key)\u001b[0m\n\u001b[0;32m   4100\u001b[0m \u001b[38;5;28;01mif\u001b[39;00m \u001b[38;5;28mself\u001b[39m\u001b[38;5;241m.\u001b[39mcolumns\u001b[38;5;241m.\u001b[39mnlevels \u001b[38;5;241m>\u001b[39m \u001b[38;5;241m1\u001b[39m:\n\u001b[0;32m   4101\u001b[0m     \u001b[38;5;28;01mreturn\u001b[39;00m \u001b[38;5;28mself\u001b[39m\u001b[38;5;241m.\u001b[39m_getitem_multilevel(key)\n\u001b[1;32m-> 4102\u001b[0m indexer \u001b[38;5;241m=\u001b[39m \u001b[38;5;28mself\u001b[39m\u001b[38;5;241m.\u001b[39mcolumns\u001b[38;5;241m.\u001b[39mget_loc(key)\n\u001b[0;32m   4103\u001b[0m \u001b[38;5;28;01mif\u001b[39;00m is_integer(indexer):\n\u001b[0;32m   4104\u001b[0m     indexer \u001b[38;5;241m=\u001b[39m [indexer]\n",
      "File \u001b[1;32mD:\\anaconda python\\Lib\\site-packages\\pandas\\core\\indexes\\base.py:3812\u001b[0m, in \u001b[0;36mIndex.get_loc\u001b[1;34m(self, key)\u001b[0m\n\u001b[0;32m   3807\u001b[0m     \u001b[38;5;28;01mif\u001b[39;00m \u001b[38;5;28misinstance\u001b[39m(casted_key, \u001b[38;5;28mslice\u001b[39m) \u001b[38;5;129;01mor\u001b[39;00m (\n\u001b[0;32m   3808\u001b[0m         \u001b[38;5;28misinstance\u001b[39m(casted_key, abc\u001b[38;5;241m.\u001b[39mIterable)\n\u001b[0;32m   3809\u001b[0m         \u001b[38;5;129;01mand\u001b[39;00m \u001b[38;5;28many\u001b[39m(\u001b[38;5;28misinstance\u001b[39m(x, \u001b[38;5;28mslice\u001b[39m) \u001b[38;5;28;01mfor\u001b[39;00m x \u001b[38;5;129;01min\u001b[39;00m casted_key)\n\u001b[0;32m   3810\u001b[0m     ):\n\u001b[0;32m   3811\u001b[0m         \u001b[38;5;28;01mraise\u001b[39;00m InvalidIndexError(key)\n\u001b[1;32m-> 3812\u001b[0m     \u001b[38;5;28;01mraise\u001b[39;00m \u001b[38;5;167;01mKeyError\u001b[39;00m(key) \u001b[38;5;28;01mfrom\u001b[39;00m \u001b[38;5;21;01merr\u001b[39;00m\n\u001b[0;32m   3813\u001b[0m \u001b[38;5;28;01mexcept\u001b[39;00m \u001b[38;5;167;01mTypeError\u001b[39;00m:\n\u001b[0;32m   3814\u001b[0m     \u001b[38;5;66;03m# If we have a listlike key, _check_indexing_error will raise\u001b[39;00m\n\u001b[0;32m   3815\u001b[0m     \u001b[38;5;66;03m#  InvalidIndexError. Otherwise we fall through and re-raise\u001b[39;00m\n\u001b[0;32m   3816\u001b[0m     \u001b[38;5;66;03m#  the TypeError.\u001b[39;00m\n\u001b[0;32m   3817\u001b[0m     \u001b[38;5;28mself\u001b[39m\u001b[38;5;241m.\u001b[39m_check_indexing_error(key)\n",
      "\u001b[1;31mKeyError\u001b[0m: 'name'"
     ]
    }
   ],
   "source": [
    "import pandas as pd\n",
    "\n",
    "df_employee = pd.read_csv(\"Employee.csv\")\n",
    "\n",
    "df_employee[['First name', 'Last name']] = df_employee['name'].str.split(' ', 1, expand=True)\n",
    "\n",
    "df_employee.drop(columns=['name'], inplace=True)\n",
    "\n",
    "df_employee.to_csv(\"Employee.csv\", index=False)\n",
    "\n"
   ]
  },
  {
   "cell_type": "code",
   "execution_count": 51,
   "id": "e321c123-23c5-4811-87bf-a881a0265b59",
   "metadata": {},
   "outputs": [
    {
     "name": "stdout",
     "output_type": "stream",
     "text": [
      "      ID Gender     City  Age First Name  Last Name  Designation Level  \\\n",
      "0   A001      M    Paris   25       John      Alter                  2   \n",
      "1   A001      M    Paris   25       John      Alter                  2   \n",
      "2   A001      M    Paris   25       John      Alter                  2   \n",
      "3   A002      F   London   27      Alice  Luxumberg                  2   \n",
      "4   A002      F   London   27      Alice  Luxumberg                  2   \n",
      "5   A003      M   Berlin   29        Tom  Sabestine                  3   \n",
      "6   A003      M   Berlin   29        Tom  Sabestine                  3   \n",
      "7   A003      M   Berlin   29        Tom  Sabestine                  3   \n",
      "8   A004      F  Newyork   31       Nina      Adgra                  2   \n",
      "9   A004      F  Newyork   31       Nina      Adgra                  2   \n",
      "10  A004      F  Newyork   31       Nina      Adgra                  2   \n",
      "11  A005      F   Madrid   30        Amy      Johny                  3   \n",
      "12  A005      F   Madrid   30        Amy      Johny                  3   \n",
      "13  A005      F   Madrid   30        Amy      Johny                  3   \n",
      "\n",
      "       Project          Cost    Status  \n",
      "0    Project 1  1.002000e+06  Finished  \n",
      "1    Project 9  2.061714e+06   Ongoing  \n",
      "2   Project 11  2.000000e+06    Failed  \n",
      "3    Project 2  2.000000e+06   Ongoing  \n",
      "4    Project 6  6.800000e+05    Failed  \n",
      "5    Project 3  4.500000e+06  Finished  \n",
      "6    Project 8  3.500000e+05    Failed  \n",
      "7   Project 10  3.000000e+05  Finished  \n",
      "8    Project 4  5.500000e+06   Ongoing  \n",
      "9   Project 12  1.000000e+06   Ongoing  \n",
      "10  Project 13  3.000000e+06  Finished  \n",
      "11   Project 5  3.250500e+06  Finished  \n",
      "12   Project 7  4.000000e+05  Finished  \n",
      "13  Project 14  2.000000e+05  Finished  \n"
     ]
    }
   ],
   "source": [
    "\n",
    "import pandas as pd\n",
    "\n",
    "df_employee = pd.read_csv(\"Employee.csv\")\n",
    "df_seniority = pd.read_csv(\"Seniority.csv\")\n",
    "df_project = pd.read_csv(\"Project.csv\")\n",
    "\n",
    "final = df_employee.merge(df_seniority, on=\"ID\").merge(df_project, on=\"ID\")\n",
    "\n",
    "final.to_csv(\"Final.csv\", index=False)\n",
    "print(final)\n"
   ]
  },
  {
   "cell_type": "code",
   "execution_count": 45,
   "id": "46033ffe-505c-40ed-8133-eb16c7405187",
   "metadata": {},
   "outputs": [
    {
     "name": "stdout",
     "output_type": "stream",
     "text": [
      "      ID Gender     City  Age First Name  Last Name  Designation Level  \\\n",
      "0   A001      M    Paris   25       John      Alter                  2   \n",
      "1   A001      M    Paris   25       John      Alter                  2   \n",
      "2   A001      M    Paris   25       John      Alter                  2   \n",
      "3   A002      F   London   27      Alice  Luxumberg                  2   \n",
      "4   A002      F   London   27      Alice  Luxumberg                  2   \n",
      "5   A003      M   Berlin   29        Tom  Sabestine                  3   \n",
      "6   A003      M   Berlin   29        Tom  Sabestine                  3   \n",
      "7   A003      M   Berlin   29        Tom  Sabestine                  3   \n",
      "8   A004      F  Newyork   31       Nina      Adgra                  2   \n",
      "9   A004      F  Newyork   31       Nina      Adgra                  2   \n",
      "10  A004      F  Newyork   31       Nina      Adgra                  2   \n",
      "11  A005      F   Madrid   30        Amy      Johny                  3   \n",
      "12  A005      F   Madrid   30        Amy      Johny                  3   \n",
      "13  A005      F   Madrid   30        Amy      Johny                  3   \n",
      "\n",
      "       Project          Cost    Status     Bonus  \n",
      "0    Project 1  1.002000e+06  Finished   50100.0  \n",
      "1    Project 9  2.061714e+06   Ongoing       0.0  \n",
      "2   Project 11  2.000000e+06    Failed       0.0  \n",
      "3    Project 2  2.000000e+06   Ongoing       0.0  \n",
      "4    Project 6  6.800000e+05    Failed       0.0  \n",
      "5    Project 3  4.500000e+06  Finished  225000.0  \n",
      "6    Project 8  3.500000e+05    Failed       0.0  \n",
      "7   Project 10  3.000000e+05  Finished   15000.0  \n",
      "8    Project 4  5.500000e+06   Ongoing       0.0  \n",
      "9   Project 12  1.000000e+06   Ongoing       0.0  \n",
      "10  Project 13  3.000000e+06  Finished  150000.0  \n",
      "11   Project 5  3.250500e+06  Finished  162525.0  \n",
      "12   Project 7  4.000000e+05  Finished   20000.0  \n",
      "13  Project 14  2.000000e+05  Finished   10000.0  \n"
     ]
    }
   ],
   "source": [
    "import pandas as pd\n",
    "\n",
    "df_final = pd.read_csv(\"Final.csv\")\n",
    "df_final[\"Bonus\"] = df_final.apply(lambda row: row[\"Cost\"] * 0.05 if row[\"Status\"] == \"Finished\" else 0, axis=1)\n",
    "df_final.to_csv(\"Final.csv\", index=False)\n",
    "print(df_final)\n"
   ]
  },
  {
   "cell_type": "code",
   "execution_count": 53,
   "id": "3f19b45c-33b0-44d6-8084-31cedf6011c7",
   "metadata": {},
   "outputs": [
    {
     "name": "stdout",
     "output_type": "stream",
     "text": [
      "      ID Gender     City  Age First Name  Last Name  Designation Level  \\\n",
      "0   A001      M    Paris   25       John      Alter                  2   \n",
      "1   A001      M    Paris   25       John      Alter                  2   \n",
      "2   A001      M    Paris   25       John      Alter                  1   \n",
      "3   A002      F   London   27      Alice  Luxumberg                  2   \n",
      "4   A002      F   London   27      Alice  Luxumberg                  1   \n",
      "5   A003      M   Berlin   29        Tom  Sabestine                  3   \n",
      "6   A003      M   Berlin   29        Tom  Sabestine                  2   \n",
      "7   A003      M   Berlin   29        Tom  Sabestine                  3   \n",
      "8   A004      F  Newyork   31       Nina      Adgra                  2   \n",
      "9   A004      F  Newyork   31       Nina      Adgra                  2   \n",
      "10  A004      F  Newyork   31       Nina      Adgra                  2   \n",
      "11  A005      F   Madrid   30        Amy      Johny                  3   \n",
      "12  A005      F   Madrid   30        Amy      Johny                  3   \n",
      "13  A005      F   Madrid   30        Amy      Johny                  3   \n",
      "\n",
      "       Project          Cost    Status     Bonus  \n",
      "0    Project 1  1.002000e+06  Finished   50100.0  \n",
      "1    Project 9  2.061714e+06   Ongoing       0.0  \n",
      "2   Project 11  2.000000e+06    Failed       0.0  \n",
      "3    Project 2  2.000000e+06   Ongoing       0.0  \n",
      "4    Project 6  6.800000e+05    Failed       0.0  \n",
      "5    Project 3  4.500000e+06  Finished  225000.0  \n",
      "6    Project 8  3.500000e+05    Failed       0.0  \n",
      "7   Project 10  3.000000e+05  Finished   15000.0  \n",
      "8    Project 4  5.500000e+06   Ongoing       0.0  \n",
      "9   Project 12  1.000000e+06   Ongoing       0.0  \n",
      "10  Project 13  3.000000e+06  Finished  150000.0  \n",
      "11   Project 5  3.250500e+06  Finished  162525.0  \n",
      "12   Project 7  4.000000e+05  Finished   20000.0  \n",
      "13  Project 14  2.000000e+05  Finished   10000.0  \n"
     ]
    }
   ],
   "source": [
    "import pandas as pd\n",
    "\n",
    "df_employee = pd.read_csv(\"Employee.csv\")\n",
    "df_seniority = pd.read_csv(\"Seniority.csv\")\n",
    "df_project = pd.read_csv(\"Project.csv\")\n",
    "\n",
    "final = df_employee.merge(df_seniority, on=\"ID\").merge(df_project, on=\"ID\")\n",
    "\n",
    "final[\"Bonus\"] = final.apply(lambda row: row[\"Cost\"] * 0.05 if row[\"Status\"] == \"Finished\" else 0, axis=1)\n",
    "\n",
    "final.loc[final[\"Status\"] == \"Failed\", \"Designation Level\"] -= 1\n",
    "\n",
    "final = final[final[\"Designation Level\"] <= 4]\n",
    "\n",
    "final.to_csv(\"Final.csv\", index=False)\n",
    "\n",
    "print(final)\n"
   ]
  },
  {
   "cell_type": "code",
   "execution_count": 55,
   "id": "ee0d245d-a96a-406e-ac62-0c2aafb664d8",
   "metadata": {},
   "outputs": [
    {
     "name": "stdout",
     "output_type": "stream",
     "text": [
      "      ID     City  Age  First Name  Last Name  Designation Level     Project  \\\n",
      "0   A001    Paris   25    Mr. John      Alter                  2   Project 1   \n",
      "1   A001    Paris   25    Mr. John      Alter                  2   Project 9   \n",
      "2   A001    Paris   25    Mr. John      Alter                  1  Project 11   \n",
      "3   A002   London   27  Mrs. Alice  Luxumberg                  2   Project 2   \n",
      "4   A002   London   27  Mrs. Alice  Luxumberg                  1   Project 6   \n",
      "5   A003   Berlin   29     Mr. Tom  Sabestine                  3   Project 3   \n",
      "6   A003   Berlin   29     Mr. Tom  Sabestine                  2   Project 8   \n",
      "7   A003   Berlin   29     Mr. Tom  Sabestine                  3  Project 10   \n",
      "8   A004  Newyork   31   Mrs. Nina      Adgra                  2   Project 4   \n",
      "9   A004  Newyork   31   Mrs. Nina      Adgra                  2  Project 12   \n",
      "10  A004  Newyork   31   Mrs. Nina      Adgra                  2  Project 13   \n",
      "11  A005   Madrid   30    Mrs. Amy      Johny                  3   Project 5   \n",
      "12  A005   Madrid   30    Mrs. Amy      Johny                  3   Project 7   \n",
      "13  A005   Madrid   30    Mrs. Amy      Johny                  3  Project 14   \n",
      "\n",
      "            Cost    Status     Bonus  \n",
      "0   1.002000e+06  Finished   50100.0  \n",
      "1   2.061714e+06   Ongoing       0.0  \n",
      "2   2.000000e+06    Failed       0.0  \n",
      "3   2.000000e+06   Ongoing       0.0  \n",
      "4   6.800000e+05    Failed       0.0  \n",
      "5   4.500000e+06  Finished  225000.0  \n",
      "6   3.500000e+05    Failed       0.0  \n",
      "7   3.000000e+05  Finished   15000.0  \n",
      "8   5.500000e+06   Ongoing       0.0  \n",
      "9   1.000000e+06   Ongoing       0.0  \n",
      "10  3.000000e+06  Finished  150000.0  \n",
      "11  3.250500e+06  Finished  162525.0  \n",
      "12  4.000000e+05  Finished   20000.0  \n",
      "13  2.000000e+05  Finished   10000.0  \n"
     ]
    }
   ],
   "source": [
    "import pandas as pd\n",
    "\n",
    "df_employee = pd.read_csv(\"Employee.csv\")\n",
    "df_seniority = pd.read_csv(\"Seniority.csv\")\n",
    "df_project = pd.read_csv(\"Project.csv\")\n",
    "\n",
    "final = df_employee.merge(df_seniority, on=\"ID\").merge(df_project, on=\"ID\")\n",
    "\n",
    "final[\"Bonus\"] = final.apply(lambda row: row[\"Cost\"] * 0.05 if row[\"Status\"] == \"Finished\" else 0, axis=1)\n",
    "\n",
    "final.loc[final[\"Status\"] == \"Failed\", \"Designation Level\"] -= 1\n",
    "\n",
    "final = final[final[\"Designation Level\"] <= 4]\n",
    "\n",
    "final[\"First Name\"] = final.apply(lambda row: \"Mr. \" + row[\"First Name\"] if row[\"Gender\"] == \"M\" else \"Mrs. \" + row[\"First Name\"], axis=1)\n",
    "\n",
    "final.drop(columns=[\"Gender\"], inplace=True)\n",
    "\n",
    "final.to_csv(\"Final.csv\", index=False)\n",
    "\n",
    "print(final)\n"
   ]
  },
  {
   "cell_type": "code",
   "execution_count": 57,
   "id": "f4828cd7-1ff4-43b1-90b7-997f3cef5f85",
   "metadata": {},
   "outputs": [
    {
     "name": "stdout",
     "output_type": "stream",
     "text": [
      "     ID  Designation Level\n",
      "0  A001                  2\n",
      "1  A002                  2\n",
      "2  A003                  3\n",
      "3  A004                  3\n",
      "4  A005                  4\n"
     ]
    }
   ],
   "source": [
    "import pandas as pd\n",
    "\n",
    "df_seniority = pd.read_csv(\"Seniority.csv\")\n",
    "df_employee = pd.read_csv(\"Employee.csv\")\n",
    "\n",
    "for i in range(len(df_employee)):\n",
    "    if df_employee.loc[i, \"Age\"] > 29:\n",
    "        df_seniority.loc[df_seniority[\"ID\"] == df_employee.loc[i, \"ID\"], \"Designation Level\"] += 1\n",
    "\n",
    "df_seniority.to_csv(\"Seniority.csv\", index=False)\n",
    "\n",
    "print(df_seniority)\n"
   ]
  },
  {
   "cell_type": "code",
   "execution_count": 59,
   "id": "881a40a4-bad6-4a3c-b9fe-ff3ed6af82cf",
   "metadata": {},
   "outputs": [
    {
     "name": "stdout",
     "output_type": "stream",
     "text": [
      "     ID First Name    Total Cost\n",
      "0  A001       John  5.063714e+06\n",
      "1  A002      Alice  2.680000e+06\n",
      "2  A003        Tom  5.150000e+06\n",
      "3  A004       Nina  9.500000e+06\n",
      "4  A005        Amy  3.850500e+06\n"
     ]
    }
   ],
   "source": [
    "import pandas as pd\n",
    "\n",
    "df_employee = pd.read_csv(\"Employee.csv\")\n",
    "df_project = pd.read_csv(\"Project.csv\")\n",
    "\n",
    "df_project = df_project.groupby(\"ID\", as_index=False)[\"Cost\"].sum()\n",
    "df_project.rename(columns={\"Cost\": \"Total Cost\"}, inplace=True)\n",
    "\n",
    "TotalProjCost = df_employee[[\"ID\", \"First Name\"]].merge(df_project, on=\"ID\", how=\"left\")\n",
    "TotalProjCost.fillna(0, inplace=True)\n",
    "\n",
    "TotalProjCost.to_csv(\"TotalProjCost.csv\", index=False)\n",
    "\n",
    "print(TotalProjCost)\n"
   ]
  },
  {
   "cell_type": "code",
   "execution_count": 61,
   "id": "e993a2ea-4d4c-47bb-af57-0b3c45ea8405",
   "metadata": {},
   "outputs": [
    {
     "name": "stdout",
     "output_type": "stream",
     "text": [
      "     ID Gender     City  Age First Name  Last Name\n",
      "1  A002      F   London   27      Alice  Luxumberg\n",
      "3  A004      F  Newyork   31       Nina      Adgra\n"
     ]
    }
   ],
   "source": [
    "import pandas as pd\n",
    "\n",
    "df_employee = pd.read_csv(\"Employee.csv\")\n",
    "\n",
    "filtered_employees = df_employee[df_employee[\"City\"].str.contains(\"o\", case=False, na=False)]\n",
    "\n",
    "print(filtered_employees)\n"
   ]
  },
  {
   "cell_type": "code",
   "execution_count": null,
   "id": "0061df4a-4a31-4378-9f51-36676e28d530",
   "metadata": {},
   "outputs": [],
   "source": []
  }
 ],
 "metadata": {
  "kernelspec": {
   "display_name": "Python [conda env:base] *",
   "language": "python",
   "name": "conda-base-py"
  },
  "language_info": {
   "codemirror_mode": {
    "name": "ipython",
    "version": 3
   },
   "file_extension": ".py",
   "mimetype": "text/x-python",
   "name": "python",
   "nbconvert_exporter": "python",
   "pygments_lexer": "ipython3",
   "version": "3.12.7"
  }
 },
 "nbformat": 4,
 "nbformat_minor": 5
}
